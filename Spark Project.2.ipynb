{
 "cells": [
  {
   "cell_type": "markdown",
   "metadata": {
    "id": "dJse0NqNvsPm"
   },
   "source": [
    "pySpark setup\n",
    "Installing PySpark in colab"
   ]
  },
  {
   "cell_type": "code",
   "execution_count": null,
   "metadata": {
    "colab": {
     "base_uri": "https://localhost:8080/"
    },
    "id": "Xip69pger2Bb",
    "outputId": "e3774826-3506-4e47-a6a1-c1747658f86f"
   },
   "outputs": [
    {
     "name": "stdout",
     "output_type": "stream",
     "text": [
      "Looking in indexes: https://pypi.org/simple, https://us-python.pkg.dev/colab-wheels/public/simple/\n",
      "Requirement already satisfied: pyspark in /usr/local/lib/python3.7/dist-packages (3.3.0)\n",
      "Requirement already satisfied: py4j==0.10.9.5 in /usr/local/lib/python3.7/dist-packages (from pyspark) (0.10.9.5)\n",
      "openjdk-8-jdk-headless is already the newest version (8u342-b07-0ubuntu1~18.04).\n",
      "The following package was automatically installed and is no longer required:\n",
      "  libnvidia-common-460\n",
      "Use 'apt autoremove' to remove it.\n",
      "0 upgraded, 0 newly installed, 0 to remove and 27 not upgraded.\n"
     ]
    }
   ],
   "source": [
    "!pip install pyspark\n",
    "# Installing the PyDrive\n",
    "!pip install -U -q PyDrive\n",
    "# Installing java 8 \n",
    "!apt install openjdk-8-jdk-headless -qq\n",
    "# Setting the environment variable \"JAVA_HOME\". This installs the compiler in the required directory.\n",
    "import os\n",
    "os.environ[\"JAVA_HOME\"]=\"/usr/lib/jvm/java-8-openjdk-amd64\""
   ]
  },
  {
   "cell_type": "code",
   "execution_count": null,
   "metadata": {
    "colab": {
     "base_uri": "https://localhost:8080/"
    },
    "id": "nDDQZep3sJUM",
    "outputId": "56dc4205-39a5-46d5-d95a-39f8cc5614b5"
   },
   "outputs": [
    {
     "name": "stdout",
     "output_type": "stream",
     "text": [
      "/bin/bash: pip install -U -q PyDrive: command not found\n"
     ]
    }
   ],
   "source": [
    "!pip install -U -q PyDrive\n",
    "from pydrive.auth import GoogleAuth\n",
    "from pydrive.drive import GoogleDrive\n",
    "from google.colab import auth\n",
    "from oauth2client.client import GoogleCredentials\n",
    "auth.authenticate_user()\n",
    "gauth= GoogleAuth()\n",
    "gauth.credentials = GoogleCredentials.get_application_default()\n",
    "drive = GoogleDrive(gauth)\n",
    "\n"
   ]
  },
  {
   "cell_type": "markdown",
   "metadata": {
    "id": "Wcs1aMN4v0jZ"
   },
   "source": [
    "Importing the file to work on from Google Drive"
   ]
  },
  {
   "cell_type": "code",
   "execution_count": null,
   "metadata": {
    "id": "yvbH5LAFtjvL"
   },
   "outputs": [],
   "source": [
    "fileDownloaded= drive.CreateFile({'id': \"17mjMe3V0UbDNG_lC4Se2hE6j4qGvqTit\"})\n",
    "fileDownloaded.GetContentFile('mini_spark_event_data.json')"
   ]
  },
  {
   "cell_type": "code",
   "execution_count": null,
   "metadata": {
    "id": "shRw99shvyES"
   },
   "outputs": [],
   "source": [
    "#Importing libraries\n",
    "import numpy as np\n",
    "import pandas as pd\n",
    "from pyspark.sql import SparkSession\n",
    "from pyspark.sql.functions import udf\n",
    "from pyspark.sql import Window\n",
    "from pyspark.sql import functions as F\n",
    "from pyspark.sql.functions import sum as Fsum\n",
    "from pyspark.sql.types import ArrayType, BooleanType, LongType, FloatType, IntegerType\n",
    "from pyspark.sql.functions import lit, udf, struct, countDistinct, collect_list, avg, count, col\n",
    "from pyspark.ml.feature import VectorAssembler, Normalizer, StandardScaler\n",
    "from pyspark.ml.classification import LogisticRegression, RandomForestClassifier, GBTClassifier\n",
    "from pyspark.ml.evaluation import MulticlassClassificationEvaluator, BinaryClassificationEvaluator\n",
    "from pyspark.ml import Pipeline\n",
    "import matplotlib.pyplot as plt\n",
    "from sklearn.metrics import roc_curve\n",
    "from sklearn.metrics import precision_recall_curve\n",
    "from pyspark.ml.tuning import CrossValidator, ParamGridBuilder\n",
    "\n"
   ]
  },
  {
   "cell_type": "code",
   "execution_count": null,
   "metadata": {
    "id": "xhwD9sCykIcW"
   },
   "outputs": [],
   "source": [
    "#create a spark session\n",
    "spark = SparkSession \\\n",
    "         .builder \\\n",
    "         .appName('Mouparna_Assgn4') \\\n",
    "         .getOrCreate()"
   ]
  },
  {
   "cell_type": "code",
   "execution_count": null,
   "metadata": {
    "id": "NXsk53nHkRgh"
   },
   "outputs": [],
   "source": [
    "#loading the dataset\n",
    "\n",
    "df = \"mini_spark_event_data.json\"\n",
    "df = spark.read.json(df)"
   ]
  },
  {
   "cell_type": "code",
   "execution_count": null,
   "metadata": {
    "id": "iJW4fQTo16kI"
   },
   "outputs": [],
   "source": [
    "#Cleaning the Dataset\n",
    "df = df.drop(*['artist','song','firstName', 'lastName', 'id_copy'])             # dropping some irrelevant columns\n",
    "df = df.dropna(how = 'any', subset = ['userId', 'sessionId'])                   # droppping some potential NA values\n",
    "df = df.filter(df.userId!='').orderBy([\"userId\", \"ts\"], ascending=[True, True]) # filtering out the invalid Ids\n",
    "df = df.withColumn(\"userId\", df[\"userId\"].cast(IntegerType()))"
   ]
  },
  {
   "cell_type": "code",
   "execution_count": null,
   "metadata": {
    "id": "BtX3ioWg2DFU"
   },
   "outputs": [],
   "source": [
    "# Defining the Churn\n",
    "# These are Customers landing on the Cancellation Confirmation page\n",
    "cancelation = udf(lambda x: 1 if x == \"Cancellation Confirmation\" else 0, \n",
    "                  IntegerType())  \n",
    "df = df.withColumn(\"churn\", cancelation(\"page\"))\n",
    "window = Window.partitionBy(\"userId\").rangeBetween(Window.unboundedPreceding, \n",
    "                                                   Window.unboundedFollowing)\n",
    "df = df.withColumn(\"churn\", Fsum(\"churn\").over(window))"
   ]
  },
  {
   "cell_type": "code",
   "execution_count": null,
   "metadata": {
    "id": "XviP3RAY2kYw"
   },
   "outputs": [],
   "source": [
    "##Some new columns were made in this step to make the data exploration easier,\n",
    "# the Feature engineering step comes later\n",
    "# Making the level_shift Column\n",
    "# This column tells us how many times did the customer switched\n",
    "# from paid to free service\n",
    "window1 = Window.partitionBy().orderBy([\"userId\", \"ts\"])\n",
    "df = df.withColumn(\"level_shift\", (df.level!=F.lag(df.level).over(window1)) | \n",
    "                   (df.userId!=F.lag(df.userId).over(window1)))\n",
    "df=df.fillna({'level_shift':0})\n",
    "df= df.withColumn(\"level_shift\", F.when(df[\"level_shift\"]==False, 0).otherwise(1))"
   ]
  },
  {
   "cell_type": "code",
   "execution_count": null,
   "metadata": {
    "id": "Is30q_F52qsO"
   },
   "outputs": [],
   "source": [
    "# Making the last_ts column\n",
    "# This column will help us to select only records that happened in the\n",
    "# last 2 weeks of customer activity\n",
    "# The idea is that customer behavior should be different shortly before\n",
    "# the churn happened\n",
    "df= df.withColumn(\"ts\", df.ts/1000)                        # trimming the last three zeros from the UNIX time (miliseconds)\n",
    "df= df.withColumn(\"registration\", df.registration/1000)"
   ]
  },
  {
   "cell_type": "code",
   "execution_count": null,
   "metadata": {
    "id": "mOcAQpJd200C"
   },
   "outputs": [],
   "source": [
    "window2 = Window.partitionBy(\"userId\")\n",
    "df= df.withColumn(\"last_ts\", F.max('ts').over(window2))\n",
    "df=df.filter(df.last_ts - df.ts < 1300000) # approx no of sec in a 2 weeks"
   ]
  },
  {
   "cell_type": "code",
   "execution_count": null,
   "metadata": {
    "id": "fRyYqejA245P"
   },
   "outputs": [],
   "source": [
    "# Making the Columns: pages_per_session, diff_time\n",
    "# pages_per_session is number of pages per session\n",
    "# diff_time is a number of days since a specific page was visited\n",
    "window3 = Window.partitionBy([\"userId\", \"sessionId\"])\n",
    "df= df.withColumn(\"pages_per_session\", F.max('ItemInSession').over(window3))\n",
    "df = df.withColumn(\"ts_time\",F.to_timestamp(df.ts))                    #  unix to datetime\n",
    "df = df.withColumn(\"last_ts_time\",F.to_timestamp(df.last_ts))          # unix to datetime"
   ]
  },
  {
   "cell_type": "code",
   "execution_count": null,
   "metadata": {
    "id": "l0zQOnLq29eH"
   },
   "outputs": [],
   "source": [
    "df = df.withColumn(\"diff_time\",F.datediff(df.last_ts_time, df.ts_time))  # how many days ago was the page visited\n",
    "df=df.orderBy([\"userId\", \"ts\"], ascending=[True, True])\n",
    "df.createOrReplaceTempView('data');                                    # Create a Temp Table to be used for SQL queries"
   ]
  },
  {
   "cell_type": "code",
   "execution_count": null,
   "metadata": {
    "colab": {
     "base_uri": "https://localhost:8080/",
     "height": 310
    },
    "id": "nAo8vdlWkwkb",
    "outputId": "c4f7d679-92a5-4a75-e980-a8700913d8a9"
   },
   "outputs": [
    {
     "data": {
      "text/html": [
       "\n",
       "  <div id=\"df-4fa6680c-91cd-44e3-a970-02ed1baca777\">\n",
       "    <div class=\"colab-df-container\">\n",
       "      <div>\n",
       "<style scoped>\n",
       "    .dataframe tbody tr th:only-of-type {\n",
       "        vertical-align: middle;\n",
       "    }\n",
       "\n",
       "    .dataframe tbody tr th {\n",
       "        vertical-align: top;\n",
       "    }\n",
       "\n",
       "    .dataframe thead th {\n",
       "        text-align: right;\n",
       "    }\n",
       "</style>\n",
       "<table border=\"1\" class=\"dataframe\">\n",
       "  <thead>\n",
       "    <tr style=\"text-align: right;\">\n",
       "      <th></th>\n",
       "      <th>auth</th>\n",
       "      <th>gender</th>\n",
       "      <th>itemInSession</th>\n",
       "      <th>length</th>\n",
       "      <th>level</th>\n",
       "      <th>location</th>\n",
       "      <th>method</th>\n",
       "      <th>page</th>\n",
       "      <th>registration</th>\n",
       "      <th>sessionId</th>\n",
       "      <th>...</th>\n",
       "      <th>ts</th>\n",
       "      <th>userAgent</th>\n",
       "      <th>userId</th>\n",
       "      <th>churn</th>\n",
       "      <th>level_shift</th>\n",
       "      <th>last_ts</th>\n",
       "      <th>pages_per_session</th>\n",
       "      <th>ts_time</th>\n",
       "      <th>last_ts_time</th>\n",
       "      <th>diff_time</th>\n",
       "    </tr>\n",
       "  </thead>\n",
       "  <tbody>\n",
       "    <tr>\n",
       "      <th>0</th>\n",
       "      <td>Logged In</td>\n",
       "      <td>F</td>\n",
       "      <td>0</td>\n",
       "      <td>250.82730</td>\n",
       "      <td>paid</td>\n",
       "      <td>Raleigh, NC</td>\n",
       "      <td>PUT</td>\n",
       "      <td>NextSong</td>\n",
       "      <td>1.536800e+09</td>\n",
       "      <td>1639</td>\n",
       "      <td>...</td>\n",
       "      <td>1.542150e+09</td>\n",
       "      <td>\"Mozilla/5.0 (Windows NT 6.1; WOW64) AppleWebK...</td>\n",
       "      <td>2</td>\n",
       "      <td>0</td>\n",
       "      <td>0</td>\n",
       "      <td>1.542839e+09</td>\n",
       "      <td>192</td>\n",
       "      <td>2018-11-13 22:51:43</td>\n",
       "      <td>2018-11-21 22:30:04</td>\n",
       "      <td>8</td>\n",
       "    </tr>\n",
       "    <tr>\n",
       "      <th>1</th>\n",
       "      <td>Logged In</td>\n",
       "      <td>F</td>\n",
       "      <td>1</td>\n",
       "      <td>148.55791</td>\n",
       "      <td>paid</td>\n",
       "      <td>Raleigh, NC</td>\n",
       "      <td>PUT</td>\n",
       "      <td>NextSong</td>\n",
       "      <td>1.536800e+09</td>\n",
       "      <td>1639</td>\n",
       "      <td>...</td>\n",
       "      <td>1.542150e+09</td>\n",
       "      <td>\"Mozilla/5.0 (Windows NT 6.1; WOW64) AppleWebK...</td>\n",
       "      <td>2</td>\n",
       "      <td>0</td>\n",
       "      <td>0</td>\n",
       "      <td>1.542839e+09</td>\n",
       "      <td>192</td>\n",
       "      <td>2018-11-13 22:55:53</td>\n",
       "      <td>2018-11-21 22:30:04</td>\n",
       "      <td>8</td>\n",
       "    </tr>\n",
       "  </tbody>\n",
       "</table>\n",
       "<p>2 rows × 21 columns</p>\n",
       "</div>\n",
       "      <button class=\"colab-df-convert\" onclick=\"convertToInteractive('df-4fa6680c-91cd-44e3-a970-02ed1baca777')\"\n",
       "              title=\"Convert this dataframe to an interactive table.\"\n",
       "              style=\"display:none;\">\n",
       "        \n",
       "  <svg xmlns=\"http://www.w3.org/2000/svg\" height=\"24px\"viewBox=\"0 0 24 24\"\n",
       "       width=\"24px\">\n",
       "    <path d=\"M0 0h24v24H0V0z\" fill=\"none\"/>\n",
       "    <path d=\"M18.56 5.44l.94 2.06.94-2.06 2.06-.94-2.06-.94-.94-2.06-.94 2.06-2.06.94zm-11 1L8.5 8.5l.94-2.06 2.06-.94-2.06-.94L8.5 2.5l-.94 2.06-2.06.94zm10 10l.94 2.06.94-2.06 2.06-.94-2.06-.94-.94-2.06-.94 2.06-2.06.94z\"/><path d=\"M17.41 7.96l-1.37-1.37c-.4-.4-.92-.59-1.43-.59-.52 0-1.04.2-1.43.59L10.3 9.45l-7.72 7.72c-.78.78-.78 2.05 0 2.83L4 21.41c.39.39.9.59 1.41.59.51 0 1.02-.2 1.41-.59l7.78-7.78 2.81-2.81c.8-.78.8-2.07 0-2.86zM5.41 20L4 18.59l7.72-7.72 1.47 1.35L5.41 20z\"/>\n",
       "  </svg>\n",
       "      </button>\n",
       "      \n",
       "  <style>\n",
       "    .colab-df-container {\n",
       "      display:flex;\n",
       "      flex-wrap:wrap;\n",
       "      gap: 12px;\n",
       "    }\n",
       "\n",
       "    .colab-df-convert {\n",
       "      background-color: #E8F0FE;\n",
       "      border: none;\n",
       "      border-radius: 50%;\n",
       "      cursor: pointer;\n",
       "      display: none;\n",
       "      fill: #1967D2;\n",
       "      height: 32px;\n",
       "      padding: 0 0 0 0;\n",
       "      width: 32px;\n",
       "    }\n",
       "\n",
       "    .colab-df-convert:hover {\n",
       "      background-color: #E2EBFA;\n",
       "      box-shadow: 0px 1px 2px rgba(60, 64, 67, 0.3), 0px 1px 3px 1px rgba(60, 64, 67, 0.15);\n",
       "      fill: #174EA6;\n",
       "    }\n",
       "\n",
       "    [theme=dark] .colab-df-convert {\n",
       "      background-color: #3B4455;\n",
       "      fill: #D2E3FC;\n",
       "    }\n",
       "\n",
       "    [theme=dark] .colab-df-convert:hover {\n",
       "      background-color: #434B5C;\n",
       "      box-shadow: 0px 1px 3px 1px rgba(0, 0, 0, 0.15);\n",
       "      filter: drop-shadow(0px 1px 2px rgba(0, 0, 0, 0.3));\n",
       "      fill: #FFFFFF;\n",
       "    }\n",
       "  </style>\n",
       "\n",
       "      <script>\n",
       "        const buttonEl =\n",
       "          document.querySelector('#df-4fa6680c-91cd-44e3-a970-02ed1baca777 button.colab-df-convert');\n",
       "        buttonEl.style.display =\n",
       "          google.colab.kernel.accessAllowed ? 'block' : 'none';\n",
       "\n",
       "        async function convertToInteractive(key) {\n",
       "          const element = document.querySelector('#df-4fa6680c-91cd-44e3-a970-02ed1baca777');\n",
       "          const dataTable =\n",
       "            await google.colab.kernel.invokeFunction('convertToInteractive',\n",
       "                                                     [key], {});\n",
       "          if (!dataTable) return;\n",
       "\n",
       "          const docLinkHtml = 'Like what you see? Visit the ' +\n",
       "            '<a target=\"_blank\" href=https://colab.research.google.com/notebooks/data_table.ipynb>data table notebook</a>'\n",
       "            + ' to learn more about interactive tables.';\n",
       "          element.innerHTML = '';\n",
       "          dataTable['output_type'] = 'display_data';\n",
       "          await google.colab.output.renderOutput(dataTable, element);\n",
       "          const docLink = document.createElement('div');\n",
       "          docLink.innerHTML = docLinkHtml;\n",
       "          element.appendChild(docLink);\n",
       "        }\n",
       "      </script>\n",
       "    </div>\n",
       "  </div>\n",
       "  "
      ],
      "text/plain": [
       "        auth gender  itemInSession     length level     location method  \\\n",
       "0  Logged In      F              0  250.82730  paid  Raleigh, NC    PUT   \n",
       "1  Logged In      F              1  148.55791  paid  Raleigh, NC    PUT   \n",
       "\n",
       "       page  registration  sessionId  ...            ts  \\\n",
       "0  NextSong  1.536800e+09       1639  ...  1.542150e+09   \n",
       "1  NextSong  1.536800e+09       1639  ...  1.542150e+09   \n",
       "\n",
       "                                           userAgent userId  churn  \\\n",
       "0  \"Mozilla/5.0 (Windows NT 6.1; WOW64) AppleWebK...      2      0   \n",
       "1  \"Mozilla/5.0 (Windows NT 6.1; WOW64) AppleWebK...      2      0   \n",
       "\n",
       "   level_shift       last_ts  pages_per_session             ts_time  \\\n",
       "0            0  1.542839e+09                192 2018-11-13 22:51:43   \n",
       "1            0  1.542839e+09                192 2018-11-13 22:55:53   \n",
       "\n",
       "         last_ts_time diff_time  \n",
       "0 2018-11-21 22:30:04         8  \n",
       "1 2018-11-21 22:30:04         8  \n",
       "\n",
       "[2 rows x 21 columns]"
      ]
     },
     "execution_count": 49,
     "metadata": {},
     "output_type": "execute_result"
    }
   ],
   "source": [
    "#Data Preview\n",
    "df.limit(2).toPandas()"
   ]
  },
  {
   "cell_type": "code",
   "execution_count": null,
   "metadata": {
    "id": "eXmPgfaG3BWs"
   },
   "outputs": [],
   "source": [
    "# The column \"page\" seems to be most informative in the whole dataset\n",
    "# It shows which pages of the service were visited by users, timestamp is also provided\n",
    "# This column can be used to engineer useful features\n",
    "df.select('page','UserId').groupby('page').agg({'page':'count'}).select('page','count(page)').show()"
   ]
  },
  {
   "cell_type": "code",
   "execution_count": null,
   "metadata": {
    "id": "2IkkN3oT3GCO"
   },
   "outputs": [],
   "source": [
    "# Investigation if there are differences between churned and non-churned users\n",
    "# label             - 0 if non_churned, 1 if churned\n",
    "# song_count        - avg number of songs played by churned/non_churned users\n",
    "# error             - avg number of errors occuring \n",
    "# friends           - avg number of \"friends\" on thhe application\n",
    "# playlist_count    - avg number of visits to the Playlist page\n",
    "# thumbs_up         - avg number of clicking the 'thumbs up'\n",
    "# thumbs_down       - avg number of clicking the 'thumbs down'\n",
    "# downgrade         - avg number of visits to the downgrade page\n",
    "# count_session_dist- avg number of sessions made\n",
    "# count_diff_time   - avg number of days (in the last two weeks) in which the user used the app\n",
    "# pages per session - avg numbers of pages (or any activity or changes) per session\n",
    "# duration          - avg number of days since the user joined (division with 86400 as a proxy of seconds within a day)\n",
    "# level_shift       - avg number of level changes (free, paid) per customer\n",
    "# usage_time        - avg total time spent using the app\n",
    "stats = spark.sql(\" WITH prep as( \\\n",
    "SELECT userId, \\\n",
    "max(churn)                                                          as label, \\\n",
    "count(case when page = 'NextSong' then userId else null end)        as song_count, \\\n",
    "count(case when page = 'Error' then userId else null end)           as error, \\\n",
    "count(case when page = 'Add Friend' then userId else null end)      as friends, \\\n",
    "count(case when page = 'Add to Playlist' then userId else null end) as playlist_count, \\\n",
    "count(case when page = 'Thumbs Up' then userId else null end)       as thumbs_up, \\\n",
    "count(case when page = 'Thumbs Down' then userId else null end)     as thumbs_down, \\\n",
    "count(case when page = 'Downgrade' then userId else null end)       as downgrade, \\\n",
    "count(distinct sessionId)                                           as count_session_dist, \\\n",
    "count(distinct diff_time)                                           as count_diff_time, \\\n",
    "avg(distinct pages_per_session)                                     as pages_per_session, \\\n",
    "(max(ts) - min(registration))/86400                                 as duration, \\\n",
    "sum(level_shift)                                                    as level_shift, \\\n",
    "sum(length)                                                         as usage_time \\\n",
    "FROM data \\\n",
    "GROUP BY userId) \\\n",
    "SELECT label, \\\n",
    "count(label)             as cnt, \\\n",
    "avg(song_count)          as song_count, \\\n",
    "avg(error)               as error, \\\n",
    "avg(friends)             as friends, \\\n",
    "avg(playlist_count)      as playlist_count, \\\n",
    "avg(thumbs_up)           as thumbs_up, \\\n",
    "avg(thumbs_down)         as thumbs_down, \\\n",
    "avg(downgrade)           as downgrade, \\\n",
    "avg(count_session_dist)  as count_session_dist, \\\n",
    "avg(count_diff_time)     as count_diff_time, \\\n",
    "avg(pages_per_session)   as pages_per_session, \\\n",
    "avg(duration)            as duration, \\\n",
    "avg (level_shift)        as level_shift, \\\n",
    "avg(usage_time)          as usage_time \\\n",
    "FROM prep \\\n",
    "GROUP BY label\")\n",
    "# We can see that for most dimensions/features there are differences between\n",
    "# churned and non-churned users\n",
    "stats.toPandas()"
   ]
  },
  {
   "cell_type": "code",
   "execution_count": null,
   "metadata": {
    "id": "AEo1_3OF3GZt"
   },
   "outputs": [],
   "source": [
    "# Investigation if there are differences between churned and non-churned users\n",
    "# label             - 0 if non_churned, 1 if churned\n",
    "# song_count        - avg number of songs played by churned/non_churned users\n",
    "# error             - avg number of errors occuring \n",
    "# friends           - avg number of \"friends\" on thhe application\n",
    "# playlist_count    - avg number of visits to the Playlist page\n",
    "# thumbs_up         - avg number of clicking the 'thumbs up'\n",
    "# thumbs_down       - avg number of clicking the 'thumbs down'\n",
    "# downgrade         - avg number of visits to the downgrade page\n",
    "# count_session_dist- avg number of sessions made\n",
    "# count_diff_time   - avg number of days (in the last two weeks) in which the user used the app\n",
    "# pages per session - avg numbers of pages (or any activity or changes) per session\n",
    "# duration          - avg number of days since the user joined (division with 86400 as a proxy of seconds within a day)\n",
    "# level_shift       - avg number of level changes (free, paid) per customer\n",
    "# usage_time        - avg total time spent using the app\n",
    "stats = spark.sql(\" WITH prep as( \\\n",
    "SELECT userId, \\\n",
    "max(churn)                                                          as label, \\\n",
    "count(case when page = 'NextSong' then userId else null end)        as song_count, \\\n",
    "count(case when page = 'Error' then userId else null end)           as error, \\\n",
    "count(case when page = 'Add Friend' then userId else null end)      as friends, \\\n",
    "count(case when page = 'Add to Playlist' then userId else null end) as playlist_count, \\\n",
    "count(case when page = 'Thumbs Up' then userId else null end)       as thumbs_up, \\\n",
    "count(case when page = 'Thumbs Down' then userId else null end)     as thumbs_down, \\\n",
    "count(case when page = 'Downgrade' then userId else null end)       as downgrade, \\\n",
    "count(distinct sessionId)                                           as count_session_dist, \\\n",
    "count(distinct diff_time)                                           as count_diff_time, \\\n",
    "avg(distinct pages_per_session)                                     as pages_per_session, \\\n",
    "(max(ts) - min(registration))/86400                                 as duration, \\\n",
    "sum(level_shift)                                                    as level_shift, \\\n",
    "sum(length)                                                         as usage_time \\\n",
    "FROM data \\\n",
    "GROUP BY userId) \\\n",
    "SELECT label, \\\n",
    "count(label)             as cnt, \\\n",
    "avg(song_count)          as song_count, \\\n",
    "avg(error)               as error, \\\n",
    "avg(friends)             as friends, \\\n",
    "avg(playlist_count)      as playlist_count, \\\n",
    "avg(thumbs_up)           as thumbs_up, \\\n",
    "avg(thumbs_down)         as thumbs_down, \\\n",
    "avg(downgrade)           as downgrade, \\\n",
    "avg(count_session_dist)  as count_session_dist, \\\n",
    "avg(count_diff_time)     as count_diff_time, \\\n",
    "avg(pages_per_session)   as pages_per_session, \\\n",
    "avg(duration)            as duration, \\\n",
    "avg (level_shift)        as level_shift, \\\n",
    "avg(usage_time)          as usage_time \\\n",
    "FROM prep \\\n",
    "GROUP BY label\")\n",
    "# We can see that for most dimensions/features there are differences between\n",
    "# churned and non-churned users\n",
    "stats.toPandas()"
   ]
  },
  {
   "cell_type": "code",
   "execution_count": null,
   "metadata": {
    "id": "tPGcAmQy3nwH"
   },
   "outputs": [],
   "source": [
    "# Feature Enigneering\n",
    "# Based on the previous analysis, all 14 investigated features will be included. \n",
    "# Here I am making a Temp Table which holds all the features.\n",
    "# The temp table will be used as model input\n",
    "# All data is aggregated per userId\n",
    "features = spark.sql(\"SELECT userId, \\\n",
    "max(churn)                                                          as label, \\\n",
    "count(case when page = 'NextSong' then userId else null end)        as song_count, \\\n",
    "count(case when page = 'Error' then userId else null end)           as error, \\\n",
    "count(case when page = 'Add Friend' then userId else null end)      as friends, \\\n",
    "count(case when page = 'Add to Playlist' then userId else null end) as playlist_count, \\\n",
    "count(case when page = 'Thumbs Up' then userId else null end)       as thumbs_up, \\\n",
    "count(case when page = 'Thumbs Down' then userId else null end)     as thumbs_down, \\\n",
    "count(case when page = 'Downgrade' then userId else null end)       as downgrade, \\\n",
    "count(distinct sessionId)                                           as count_session_dist, \\\n",
    "count(distinct diff_time)                                           as count_diff_time, \\\n",
    "round(avg(distinct pages_per_session),0)                            as pages_per_session, \\\n",
    "round((max(ts) - min(registration))/86400,0)                        as duration, \\\n",
    "round(sum(level_shift),0)                                           as level_shift, \\\n",
    "round(sum(length),0)                                                as usage_time \\\n",
    "FROM data \\\n",
    "GROUP BY userId\");\n",
    "features.createOrReplaceTempView('features');\n",
    "features=features.na.drop()"
   ]
  },
  {
   "cell_type": "code",
   "execution_count": null,
   "metadata": {
    "id": "e4ijzevslaH2"
   },
   "outputs": [],
   "source": [
    "#Train test split\n",
    "training, test = features.randomSplit([0.8,0.2])"
   ]
  },
  {
   "cell_type": "code",
   "execution_count": null,
   "metadata": {
    "id": "xqmB3cFQ3oHD"
   },
   "outputs": [],
   "source": [
    "# Make VectorAssembler - this is a Pypark specific step\n",
    "# All input features must be in one column before feeding into the model\n",
    "assembler = VectorAssembler(inputCols=[\"userId\",\"song_count\",\"error\",\"friends\",\"playlist_count\", \\\n",
    "                                       \"thumbs_up\",\"thumbs_down\",\"downgrade\", \"count_session_dist\",\\\n",
    "                                       \"count_diff_time\",\"pages_per_session\", \"duration\",\"level_shift\",\\\n",
    "                                       \"usage_time\"], \\\n",
    "                            outputCol=\"inputFeatures\")"
   ]
  },
  {
   "cell_type": "code",
   "execution_count": null,
   "metadata": {
    "id": "YqWFGA43lbg5"
   },
   "outputs": [],
   "source": [
    "#Normalize Data\n",
    "scaler = Normalizer(inputCol = \"inputFeatures\",outputCol=\"features\")"
   ]
  },
  {
   "cell_type": "code",
   "execution_count": null,
   "metadata": {
    "id": "4sZDMPKglerq"
   },
   "outputs": [],
   "source": [
    "# Assigning the classifier\n",
    "lr = LogisticRegression()\n",
    "gbt = GBTClassifier()\n",
    "rf = RandomForestClassifier()"
   ]
  },
  {
   "cell_type": "code",
   "execution_count": null,
   "metadata": {
    "id": "Ccza7zevliMp"
   },
   "outputs": [],
   "source": [
    "#Building pipelines\n",
    "pipeline1 = Pipeline(stages=[assembler, scaler,lr])\n",
    "pipeline2 = Pipeline(stages=[assembler, scaler,gbt])\n",
    "pipeline3 = Pipeline(stages=[assembler, scaler,rf])"
   ]
  },
  {
   "cell_type": "code",
   "execution_count": null,
   "metadata": {
    "id": "W6UA_TQdllyF"
   },
   "outputs": [],
   "source": [
    "# metric chosen is f1 (we want to catch true positives (churn customers), but\n",
    "# we do not want to waste money on false positives (investing in retaining \n",
    "# non-churn customers, which are loyal anyway)\n",
    "# Note that Recall might also be justified to use here (if the cost offalse\n",
    "# positives is low)\n",
    "paramgrid =ParamGridBuilder()\\\n",
    ".addGrid(lr.regParam, [0.0, 0,1])\\\n",
    ".addGrid(lr.maxIter, [10])\\\n",
    ".build()"
   ]
  },
  {
   "cell_type": "code",
   "execution_count": null,
   "metadata": {
    "id": "EdHViifGlopG"
   },
   "outputs": [],
   "source": [
    "evaluator = MulticlassClassificationEvaluator(metricName=\"f1\")"
   ]
  },
  {
   "cell_type": "code",
   "execution_count": null,
   "metadata": {
    "id": "9E2Web4Jlrzv"
   },
   "outputs": [],
   "source": [
    "crossval= CrossValidator(estimator=pipeline1,  \n",
    "                         estimatorParamMaps=paramgrid,\n",
    "                         evaluator = evaluator , \n",
    "                         numFolds=3\n",
    "                        )"
   ]
  },
  {
   "cell_type": "code",
   "execution_count": null,
   "metadata": {
    "id": "jiQ4AcUYlt9D"
   },
   "outputs": [],
   "source": [
    "cvModel1 = crossval.fit(training)"
   ]
  },
  {
   "cell_type": "code",
   "execution_count": null,
   "metadata": {
    "id": "g1x-BOB4lwmb"
   },
   "outputs": [],
   "source": [
    "evaluator.evaluate(cvModel1.transform(test))"
   ]
  },
  {
   "cell_type": "markdown",
   "metadata": {
    "id": "xH2KpZ3Dl4FU"
   },
   "source": [
    "Gradient Boosted tree Classifier"
   ]
  },
  {
   "cell_type": "code",
   "execution_count": null,
   "metadata": {
    "id": "71s5NwQWl5FN"
   },
   "outputs": [],
   "source": [
    "# Specify multiple parameters in the paramgrid, in case you have\n",
    "# enough processing power \n",
    "paramgrid1 =ParamGridBuilder().build()"
   ]
  },
  {
   "cell_type": "code",
   "execution_count": null,
   "metadata": {
    "id": "IoLCYKJ_l7_t"
   },
   "outputs": [],
   "source": [
    "evaluator=MulticlassClassificationEvaluator(metricName=\"f1\")"
   ]
  },
  {
   "cell_type": "code",
   "execution_count": null,
   "metadata": {
    "id": "uXbaikdrl-bd"
   },
   "outputs": [],
   "source": [
    "crossval= CrossValidator(estimator=pipeline2,  \n",
    "                         estimatorParamMaps=paramgrid1,\n",
    "                         evaluator=evaluator, \n",
    "                         numFolds=3\n",
    "                        )"
   ]
  },
  {
   "cell_type": "code",
   "execution_count": null,
   "metadata": {
    "id": "rMxpz4T-mKQs"
   },
   "outputs": [],
   "source": [
    "cvModel2 = crossval.fit(training)"
   ]
  },
  {
   "cell_type": "code",
   "execution_count": null,
   "metadata": {
    "colab": {
     "base_uri": "https://localhost:8080/"
    },
    "id": "Hqrf4S8AmKxU",
    "outputId": "e89c8c5b-046c-4cf0-b3cb-5eab6d374563"
   },
   "outputs": [
    {
     "data": {
      "text/plain": [
       "0.7500864838151717"
      ]
     },
     "execution_count": 77,
     "metadata": {},
     "output_type": "execute_result"
    }
   ],
   "source": [
    "evaluator.evaluate(cvModel2.transform(test))"
   ]
  },
  {
   "cell_type": "markdown",
   "metadata": {
    "id": "9h5XweCXmSiT"
   },
   "source": [
    "Random Forest Classifier"
   ]
  },
  {
   "cell_type": "code",
   "execution_count": null,
   "metadata": {
    "id": "F4I-vFWRmLNH"
   },
   "outputs": [],
   "source": [
    "paramgrid2 = ParamGridBuilder().build()"
   ]
  },
  {
   "cell_type": "code",
   "execution_count": null,
   "metadata": {
    "id": "yceS8fLdmc8C"
   },
   "outputs": [],
   "source": [
    "evaluator=MulticlassClassificationEvaluator(metricName=\"f1\")"
   ]
  },
  {
   "cell_type": "code",
   "execution_count": null,
   "metadata": {
    "id": "PGQXe7wxmdeP"
   },
   "outputs": [],
   "source": [
    "crossval = CrossValidator(estimator=pipeline3,\n",
    "                          estimatorParamMaps=paramgrid2,\n",
    "                          evaluator=evaluator,\n",
    "                          numFolds=3\n",
    "                          )"
   ]
  },
  {
   "cell_type": "code",
   "execution_count": null,
   "metadata": {
    "id": "O1ZW8xDzmec-"
   },
   "outputs": [],
   "source": [
    "cvModel3 = crossval.fit(training)"
   ]
  },
  {
   "cell_type": "code",
   "execution_count": null,
   "metadata": {
    "colab": {
     "base_uri": "https://localhost:8080/"
    },
    "id": "pyrbsUXkmeRW",
    "outputId": "bd084c98-59c0-49ec-8c41-17badd3f29c7"
   },
   "outputs": [
    {
     "data": {
      "text/plain": [
       "0.8744360902255641"
      ]
     },
     "execution_count": 74,
     "metadata": {},
     "output_type": "execute_result"
    }
   ],
   "source": [
    "evaluator.evaluate(cvModel3.transform(test))"
   ]
  },
  {
   "cell_type": "code",
   "execution_count": null,
   "metadata": {
    "id": "GfmWQhy6meE7"
   },
   "outputs": [],
   "source": [
    "predictions=cvModel2.transform(test)"
   ]
  },
  {
   "cell_type": "code",
   "execution_count": null,
   "metadata": {
    "colab": {
     "base_uri": "https://localhost:8080/",
     "height": 295
    },
    "id": "2OHH-9UAmdyM",
    "outputId": "f53291f4-b0f6-460d-a6c7-dce95bd4ddd6"
   },
   "outputs": [
    {
     "data": {
      "image/png": "[encoded data removed]",
      "text/plain": [
       "<Figure size 432x288 with 1 Axes>"
      ]
     },
     "metadata": {
      "needs_background": "light"
     },
     "output_type": "display_data"
    }
   ],
   "source": [
    "#Plotting ROC curve\n",
    "def roc(ax, predictions, labels, title='ROC curve'):\n",
    "    pp = predictions.toPandas()['probability'].apply(lambda x:x[1]).values\n",
    "    tpr, fpr, _ = roc_curve(labels, pp)\n",
    "    ax.plot(tpr, fpr)\n",
    "    ax.set_facecolor('xkcd:wheat')\n",
    "    ax.set_xlabel('False Positive Rate')\n",
    "    ax.set_ylabel('True Positive Rate')\n",
    "    ax.set_title(title)\n",
    "    \n",
    "#plt.clf() # to be used for AWS EMR\n",
    "labels=predictions.toPandas()['label']\n",
    "fig = plt.figure()\n",
    "ax = fig.add_subplot(111)\n",
    "roc(ax, predictions,labels)"
   ]
  }
 ],
 "metadata": {
  "colab": {
   "collapsed_sections": [],
   "provenance": []
  },
  "kernelspec": {
   "display_name": "Python 3 (ipykernel)",
   "language": "python",
   "name": "python3"
  },
  "language_info": {
   "codemirror_mode": {
    "name": "ipython",
    "version": 3
   },
   "file_extension": ".py",
   "mimetype": "text/x-python",
   "name": "python",
   "nbconvert_exporter": "python",
   "pygments_lexer": "ipython3",
   "version": "3.9.12"
  }
 },
 "nbformat": 4,
 "nbformat_minor": 1
}
